{
 "cells": [
  {
   "cell_type": "code",
   "execution_count": 5,
   "metadata": {},
   "outputs": [
    {
     "name": "stderr",
     "output_type": "stream",
     "text": [
      "/Users/adam/opt/anaconda3/lib/python3.7/site-packages/sklearn/utils/deprecation.py:144: FutureWarning: The sklearn.metrics.regression module is  deprecated in version 0.22 and will be removed in version 0.24. The corresponding classes / functions should instead be imported from sklearn.metrics. Anything that cannot be imported from sklearn.metrics is now part of the private API.\n",
      "  warnings.warn(message, FutureWarning)\n"
     ]
    }
   ],
   "source": [
    "import pandas as pd\n",
    "import numpy as np\n",
    "import matplotlib.pyplot as plt\n",
    "import seaborn as sns\n",
    "from sklearn.linear_model import LogisticRegression\n",
    "from sklearn.metrics import classification_report, confusion_matrix\n",
    "from sklearn.model_selection import train_test_split\n",
    "import itertools\n",
    "from sklearn.model_selection import GridSearchCV\n",
    "from sklearn.metrics import roc_curve, auc\n",
    "from sklearn.metrics import roc_auc_score\n",
    "from sklearn.metrics import confusion_matrix\n",
    "from sklearn.model_selection import cross_validate\n",
    "from sklearn.metrics import regression\n",
    "from sklearn.model_selection import cross_val_score\n",
    "import datetime\n",
    "%matplotlib inline"
   ]
  },
  {
   "cell_type": "code",
   "execution_count": 6,
   "metadata": {},
   "outputs": [
    {
     "data": {
      "text/html": [
       "<div>\n",
       "<style scoped>\n",
       "    .dataframe tbody tr th:only-of-type {\n",
       "        vertical-align: middle;\n",
       "    }\n",
       "\n",
       "    .dataframe tbody tr th {\n",
       "        vertical-align: top;\n",
       "    }\n",
       "\n",
       "    .dataframe thead th {\n",
       "        text-align: right;\n",
       "    }\n",
       "</style>\n",
       "<table border=\"1\" class=\"dataframe\">\n",
       "  <thead>\n",
       "    <tr style=\"text-align: right;\">\n",
       "      <th></th>\n",
       "      <th>Event Id</th>\n",
       "      <th>Investigation Type</th>\n",
       "      <th>Accident Number</th>\n",
       "      <th>Event Date</th>\n",
       "      <th>Location</th>\n",
       "      <th>Country</th>\n",
       "      <th>Latitude</th>\n",
       "      <th>Longitude</th>\n",
       "      <th>Airport Code</th>\n",
       "      <th>Airport Name</th>\n",
       "      <th>...</th>\n",
       "      <th>Air Carrier</th>\n",
       "      <th>Total Fatal Injuries</th>\n",
       "      <th>Total Serious Injuries</th>\n",
       "      <th>Total Minor Injuries</th>\n",
       "      <th>Total Uninjured</th>\n",
       "      <th>Weather Condition</th>\n",
       "      <th>Broad Phase of Flight</th>\n",
       "      <th>Report Status</th>\n",
       "      <th>Publication Date</th>\n",
       "      <th></th>\n",
       "    </tr>\n",
       "  </thead>\n",
       "  <tbody>\n",
       "    <tr>\n",
       "      <th>count</th>\n",
       "      <td>74428</td>\n",
       "      <td>74428</td>\n",
       "      <td>74428</td>\n",
       "      <td>74428</td>\n",
       "      <td>74428</td>\n",
       "      <td>74428</td>\n",
       "      <td>74428</td>\n",
       "      <td>74428</td>\n",
       "      <td>74428</td>\n",
       "      <td>74428</td>\n",
       "      <td>...</td>\n",
       "      <td>74428</td>\n",
       "      <td>74428</td>\n",
       "      <td>74428</td>\n",
       "      <td>74428</td>\n",
       "      <td>74428</td>\n",
       "      <td>74428</td>\n",
       "      <td>74428</td>\n",
       "      <td>74428</td>\n",
       "      <td>74428</td>\n",
       "      <td>74428</td>\n",
       "    </tr>\n",
       "    <tr>\n",
       "      <th>unique</th>\n",
       "      <td>73349</td>\n",
       "      <td>2</td>\n",
       "      <td>74428</td>\n",
       "      <td>11561</td>\n",
       "      <td>23841</td>\n",
       "      <td>171</td>\n",
       "      <td>14701</td>\n",
       "      <td>15586</td>\n",
       "      <td>9200</td>\n",
       "      <td>21565</td>\n",
       "      <td>...</td>\n",
       "      <td>2726</td>\n",
       "      <td>115</td>\n",
       "      <td>41</td>\n",
       "      <td>62</td>\n",
       "      <td>359</td>\n",
       "      <td>4</td>\n",
       "      <td>13</td>\n",
       "      <td>4</td>\n",
       "      <td>3139</td>\n",
       "      <td>1</td>\n",
       "    </tr>\n",
       "    <tr>\n",
       "      <th>top</th>\n",
       "      <td>20001212X19172</td>\n",
       "      <td>Accident</td>\n",
       "      <td>ERA14FA068</td>\n",
       "      <td>06/30/1984</td>\n",
       "      <td>ANCHORAGE, AK</td>\n",
       "      <td>United States</td>\n",
       "      <td></td>\n",
       "      <td></td>\n",
       "      <td></td>\n",
       "      <td></td>\n",
       "      <td>...</td>\n",
       "      <td></td>\n",
       "      <td>0</td>\n",
       "      <td>0</td>\n",
       "      <td>0</td>\n",
       "      <td>1</td>\n",
       "      <td>VMC</td>\n",
       "      <td>LANDING</td>\n",
       "      <td>Probable Cause</td>\n",
       "      <td></td>\n",
       "      <td></td>\n",
       "    </tr>\n",
       "    <tr>\n",
       "      <th>freq</th>\n",
       "      <td>3</td>\n",
       "      <td>71584</td>\n",
       "      <td>1</td>\n",
       "      <td>25</td>\n",
       "      <td>372</td>\n",
       "      <td>70757</td>\n",
       "      <td>53144</td>\n",
       "      <td>53153</td>\n",
       "      <td>32705</td>\n",
       "      <td>29806</td>\n",
       "      <td>...</td>\n",
       "      <td>70752</td>\n",
       "      <td>40380</td>\n",
       "      <td>42975</td>\n",
       "      <td>40358</td>\n",
       "      <td>21333</td>\n",
       "      <td>66572</td>\n",
       "      <td>17747</td>\n",
       "      <td>69938</td>\n",
       "      <td>12840</td>\n",
       "      <td>74428</td>\n",
       "    </tr>\n",
       "  </tbody>\n",
       "</table>\n",
       "<p>4 rows × 32 columns</p>\n",
       "</div>"
      ],
      "text/plain": [
       "              Event Id   Investigation Type   Accident Number    Event Date   \\\n",
       "count             74428                74428             74428         74428   \n",
       "unique            73349                    2             74428         11561   \n",
       "top     20001212X19172             Accident        ERA14FA068    06/30/1984    \n",
       "freq                  3                71584                 1            25   \n",
       "\n",
       "              Location          Country   Latitude   Longitude   \\\n",
       "count             74428            74428      74428       74428   \n",
       "unique            23841              171      14701       15586   \n",
       "top      ANCHORAGE, AK    United States                           \n",
       "freq                372            70757      53144       53153   \n",
       "\n",
       "        Airport Code   Airport Name   ...  Air Carrier   \\\n",
       "count           74428          74428  ...         74428   \n",
       "unique           9200          21565  ...          2726   \n",
       "top                                   ...                 \n",
       "freq            32705          29806  ...         70752   \n",
       "\n",
       "        Total Fatal Injuries   Total Serious Injuries   Total Minor Injuries   \\\n",
       "count                   74428                    74428                  74428   \n",
       "unique                    115                       41                     62   \n",
       "top                        0                        0                      0    \n",
       "freq                    40380                    42975                  40358   \n",
       "\n",
       "        Total Uninjured   Weather Condition   Broad Phase of Flight   \\\n",
       "count              74428               74428                   74428   \n",
       "unique               359                   4                      13   \n",
       "top                   1                 VMC                 LANDING    \n",
       "freq               21333               66572                   17747   \n",
       "\n",
       "          Report Status   Publication Date          \n",
       "count              74428              74428  74428  \n",
       "unique                 4               3139      1  \n",
       "top      Probable Cause                             \n",
       "freq               69938              12840  74428  \n",
       "\n",
       "[4 rows x 32 columns]"
      ]
     },
     "execution_count": 6,
     "metadata": {},
     "output_type": "execute_result"
    }
   ],
   "source": [
    "data = pd.read_csv(\"AviationData.txt\", delimiter=\"|\")\n",
    "data.describe()"
   ]
  },
  {
   "cell_type": "code",
   "execution_count": 7,
   "metadata": {},
   "outputs": [],
   "source": [
    "def print_row_col(data):\n",
    "\n",
    "    n_rows = data.shape[0]\n",
    "    n_cols = data.shape[1]\n",
    "    print(f\"There are {n_rows} rows in the airplane crash dataset\")\n",
    "    print(f\"There are {n_cols} columns in the airplane crash dataset\")"
   ]
  },
  {
   "cell_type": "code",
   "execution_count": 8,
   "metadata": {},
   "outputs": [],
   "source": [
    "def clean_data(data):\n",
    "\n",
    "    # Drop columns that seem to have significant missing data or are not relevant\n",
    "    data.drop(columns=['Event Id ', ' Registration Number ', ' Model ', ' Amateur Built ', ' FAR Description ', ' Schedule ', ' Air Carrier ', ' Broad Phase of Flight ', ' Report Status ', ' Publication Date '], inplace=True)\n",
    "    data = data.iloc[:, :-1]\n",
    "    # Replace missing data in columns with NaN\n",
    "    data.replace(r'^\\s*$', np.NaN, regex=True, inplace=True)\n",
    "    # Remove extra whitespace in columns \n",
    "    data = data.apply(lambda x: x.str.strip() if x.dtype == \"object\" else x).rename(columns=lambda x: x.strip())\n",
    "    # Decided to drop these columns\n",
    "    # data.drop(columns=['Total Serious Injuries', 'Total Minor Injuries', 'Total Uninjured'], inplace=True) # Columns that appear to be primarily empty\n",
    "    # Fill NaN values with zero\n",
    "    data.fillna(value={'Total Fatal Injuries': 0, 'Aircraft Category': 'Airplane'}, inplace=True)\n",
    "    # Convert to int\n",
    "    data['Total Fatal Injuries'] = data['Total Fatal Injuries'].astype(int)\n",
    "    data['is_fatal'] = data['Total Fatal Injuries'].map(lambda x: 1 if x > 0 else 0)\n",
    "\n",
    "    data.fillna(value={'Total Serious Injuries': 0, 'Total Minor Injuries': 0, 'Total Uninjured': 0}, inplace=True)\n",
    "\n",
    "    data['Event Date'] = pd.to_datetime(data['Event Date'])\n",
    "    data['Month'] = data['Event Date'].dt.month\n",
    "    data['Day'] = data['Event Date'].dt.day\n",
    "    data['Year'] = data['Event Date'].dt.year\n",
    "    # Drop columns that are not useful\n",
    "    # data.drop(columns=['Total Serious Injuries', 'Total Minor Injuries', 'Total Uninjured'], inplace=True)\n",
    "    \n",
    "\n",
    "\n",
    "    return data\n",
    "\n",
    "\n"
   ]
  },
  {
   "cell_type": "code",
   "execution_count": 9,
   "metadata": {},
   "outputs": [
    {
     "name": "stdout",
     "output_type": "stream",
     "text": [
      "              Event Id   Investigation Type   Accident Number    Event Date   \\\n",
      "count             74428                74428             74428         74428   \n",
      "unique            73349                    2             74428         11561   \n",
      "top     20001212X19172             Accident        ERA14FA068    06/30/1984    \n",
      "freq                  3                71584                 1            25   \n",
      "\n",
      "              Location          Country   Latitude   Longitude   \\\n",
      "count             74428            74428      74428       74428   \n",
      "unique            23841              171      14701       15586   \n",
      "top      ANCHORAGE, AK    United States                           \n",
      "freq                372            70757      53144       53153   \n",
      "\n",
      "        Airport Code   Airport Name   ...  Air Carrier   \\\n",
      "count           74428          74428  ...         74428   \n",
      "unique           9200          21565  ...          2726   \n",
      "top                                   ...                 \n",
      "freq            32705          29806  ...         70752   \n",
      "\n",
      "        Total Fatal Injuries   Total Serious Injuries   Total Minor Injuries   \\\n",
      "count                   74428                    74428                  74428   \n",
      "unique                    115                       41                     62   \n",
      "top                        0                        0                      0    \n",
      "freq                    40380                    42975                  40358   \n",
      "\n",
      "        Total Uninjured   Weather Condition   Broad Phase of Flight   \\\n",
      "count              74428               74428                   74428   \n",
      "unique               359                   4                      13   \n",
      "top                   1                 VMC                 LANDING    \n",
      "freq               21333               66572                   17747   \n",
      "\n",
      "          Report Status   Publication Date          \n",
      "count              74428              74428  74428  \n",
      "unique                 4               3139      1  \n",
      "top      Probable Cause                             \n",
      "freq               69938              12840  74428  \n",
      "\n",
      "[4 rows x 32 columns]\n",
      "         Event Id   Investigation Type   Accident Number    Event Date   \\\n",
      "0  20131208X92103             Accident        ERA14FA068    12/08/2013    \n",
      "\n",
      "            Location          Country     Latitude     Longitude   \\\n",
      "0   Jacksonville, FL    United States    30.319723    -81.514167    \n",
      "\n",
      "   Airport Code                      Airport Name   ...  Air Carrier   \\\n",
      "0           CRG    Jacksonville Executive Airport   ...                 \n",
      "\n",
      "   Total Fatal Injuries   Total Serious Injuries   Total Minor Injuries   \\\n",
      "0                     3                                                    \n",
      "\n",
      "   Total Uninjured   Weather Condition   Broad Phase of Flight   \\\n",
      "0                                  IMC                            \n",
      "\n",
      "   Report Status   Publication Date      \n",
      "0    Preliminary         12/13/2013      \n",
      "\n",
      "[1 rows x 32 columns]\n",
      "There are 74428 rows in the airplane crash dataset\n",
      "There are 32 columns in the airplane crash dataset\n"
     ]
    }
   ],
   "source": [
    "# Look at data before proprocessing\n",
    "print(data.describe())\n",
    "print(data.head(1))\n",
    "print_row_col(data)\n"
   ]
  },
  {
   "cell_type": "markdown",
   "metadata": {},
   "source": [
    "## Clean the data"
   ]
  },
  {
   "cell_type": "code",
   "execution_count": 10,
   "metadata": {},
   "outputs": [
    {
     "name": "stderr",
     "output_type": "stream",
     "text": [
      "/Users/adam/opt/anaconda3/lib/python3.7/site-packages/pandas/core/frame.py:5239: SettingWithCopyWarning: \n",
      "A value is trying to be set on a copy of a slice from a DataFrame\n",
      "\n",
      "See the caveats in the documentation: https://pandas.pydata.org/pandas-docs/stable/user_guide/indexing.html#returning-a-view-versus-a-copy\n",
      "  method=method,\n"
     ]
    }
   ],
   "source": [
    "# Preprocess data\n",
    "data = clean_data(data)"
   ]
  },
  {
   "cell_type": "markdown",
   "metadata": {},
   "source": [
    "## Data post preprocessing still contains significiant missing values and NaN's"
   ]
  },
  {
   "cell_type": "code",
   "execution_count": 11,
   "metadata": {},
   "outputs": [
    {
     "name": "stdout",
     "output_type": "stream",
     "text": [
      "       Total Fatal Injuries      is_fatal         Month           Day  \\\n",
      "count          74428.000000  74428.000000  74426.000000  74426.000000   \n",
      "mean               0.563189      0.198608      6.577728     15.720313   \n",
      "std                5.063542      0.398955      3.061183      8.833594   \n",
      "min                0.000000      0.000000      1.000000      1.000000   \n",
      "25%                0.000000      0.000000      4.000000      8.000000   \n",
      "50%                0.000000      0.000000      7.000000     16.000000   \n",
      "75%                0.000000      0.000000      9.000000     23.000000   \n",
      "max              349.000000      1.000000     12.000000     31.000000   \n",
      "\n",
      "               Year  \n",
      "count  74426.000000  \n",
      "mean    1995.570782  \n",
      "std        9.286103  \n",
      "min     1948.000000  \n",
      "25%     1987.000000  \n",
      "50%     1995.000000  \n",
      "75%     2003.000000  \n",
      "max     2013.000000  \n",
      "  Investigation Type Accident Number Event Date          Location  \\\n",
      "0           Accident      ERA14FA068 2013-12-08  Jacksonville, FL   \n",
      "\n",
      "         Country   Latitude   Longitude Airport Code  \\\n",
      "0  United States  30.319723  -81.514167          CRG   \n",
      "\n",
      "                     Airport Name Injury Severity  ... Purpose of Flight  \\\n",
      "0  Jacksonville Executive Airport        Fatal(3)  ...          Personal   \n",
      "\n",
      "  Total Fatal Injuries Total Serious Injuries Total Minor Injuries  \\\n",
      "0                    3                      0                    0   \n",
      "\n",
      "  Total Uninjured Weather Condition  is_fatal Month  Day    Year  \n",
      "0               0               IMC         1  12.0  8.0  2013.0  \n",
      "\n",
      "[1 rows x 25 columns]\n",
      "There are 74428 rows in the airplane crash dataset\n",
      "There are 25 columns in the airplane crash dataset\n"
     ]
    }
   ],
   "source": [
    "# Look at data after proprocessing\n",
    "print(data.describe())\n",
    "print(data.head(1))\n",
    "print_row_col(data)\n"
   ]
  },
  {
   "cell_type": "markdown",
   "metadata": {},
   "source": [
    "## Count the NaN's in data"
   ]
  },
  {
   "cell_type": "code",
   "execution_count": 12,
   "metadata": {},
   "outputs": [
    {
     "name": "stdout",
     "output_type": "stream",
     "text": [
      "Investigation Type            0\n",
      "Accident Number               0\n",
      "Event Date                    2\n",
      "Location                     89\n",
      "Country                     511\n",
      "Latitude                  53144\n",
      "Longitude                 53153\n",
      "Airport Code              32705\n",
      "Airport Name              29806\n",
      "Injury Severity              56\n",
      "Aircraft Damage            2161\n",
      "Aircraft Category             0\n",
      "Make                         89\n",
      "Number of Engines          3230\n",
      "Engine Type                2721\n",
      "Purpose of Flight          3010\n",
      "Total Fatal Injuries          0\n",
      "Total Serious Injuries        0\n",
      "Total Minor Injuries          0\n",
      "Total Uninjured               0\n",
      "Weather Condition          1516\n",
      "is_fatal                      0\n",
      "Month                         2\n",
      "Day                           2\n",
      "Year                          2\n",
      "dtype: int64\n",
      "Investigation Type         0.000000\n",
      "Accident Number            0.000000\n",
      "Event Date                 0.002687\n",
      "Location                   0.119579\n",
      "Country                    0.686570\n",
      "Latitude                  71.403235\n",
      "Longitude                 71.415328\n",
      "Airport Code              43.941796\n",
      "Airport Name              40.046757\n",
      "Injury Severity            0.075241\n",
      "Aircraft Damage            2.903477\n",
      "Aircraft Category          0.000000\n",
      "Make                       0.119579\n",
      "Number of Engines          4.339765\n",
      "Engine Type                3.655882\n",
      "Purpose of Flight          4.044177\n",
      "Total Fatal Injuries       0.000000\n",
      "Total Serious Injuries     0.000000\n",
      "Total Minor Injuries       0.000000\n",
      "Total Uninjured            0.000000\n",
      "Weather Condition          2.036868\n",
      "is_fatal                   0.000000\n",
      "Month                      0.002687\n",
      "Day                        0.002687\n",
      "Year                       0.002687\n",
      "dtype: float64\n"
     ]
    }
   ],
   "source": [
    "# Look at NaNs\n",
    "print(data.isna().sum())\n",
    "print(data.isna().mean()*100) # Percent of NaNs in data for each column\n"
   ]
  },
  {
   "cell_type": "markdown",
   "metadata": {},
   "source": [
    "## Histogram by total fatalities"
   ]
  },
  {
   "cell_type": "code",
   "execution_count": 13,
   "metadata": {},
   "outputs": [
    {
     "name": "stdout",
     "output_type": "stream",
     "text": [
      "AxesSubplot(0.125,0.125;0.775x0.755)\n",
      "count     54.000000\n",
      "mean     160.500000\n",
      "std       57.931889\n",
      "min      102.000000\n",
      "25%      118.750000\n",
      "50%      144.500000\n",
      "75%      172.750000\n",
      "max      349.000000\n",
      "Name: Total Fatal Injuries, dtype: float64\n"
     ]
    },
    {
     "data": {
      "text/plain": [
       "54"
      ]
     },
     "execution_count": 13,
     "metadata": {},
     "output_type": "execute_result"
    },
    {
     "data": {
      "image/png": "[encoded data removed]",
      "text/plain": [
       "<Figure size 432x288 with 1 Axes>"
      ]
     },
     "metadata": {
      "needs_background": "light"
     },
     "output_type": "display_data"
    }
   ],
   "source": [
    "# Looking at histogram of fatal injuries above 100\n",
    "print(data[data['Total Fatal Injuries'] > 100]['Total Fatal Injuries'].hist(bins=100))\n",
    "print(data[data['Total Fatal Injuries'] > 100]['Total Fatal Injuries'].describe())\n",
    "# looking at only plane crashes with greater than 100 fatalities\n",
    "len(data[data['Total Fatal Injuries'] > 100]) # Dropped down to 54 plane crashes"
   ]
  },
  {
   "cell_type": "code",
   "execution_count": 14,
   "metadata": {},
   "outputs": [],
   "source": [
    "# Make new dataframe filtered by > 25 Total Fatal Injuries\n",
    "data_sig_fatal = data[data['Total Fatal Injuries'] > 25] # Drop to only crashes including more than 25 fatalities"
   ]
  },
  {
   "cell_type": "code",
   "execution_count": 15,
   "metadata": {},
   "outputs": [
    {
     "data": {
      "text/plain": [
       "22942    44\n",
       "22943    64\n",
       "22944    65\n",
       "22945    92\n",
       "Name: Total Fatal Injuries, dtype: int64"
      ]
     },
     "execution_count": 15,
     "metadata": {},
     "output_type": "execute_result"
    }
   ],
   "source": [
    "data.loc[data['Event Date']=='09/11/2001'] # Looking at 9/11 attacks \n",
    "data.loc[data['Event Date']=='09/11/2001']['Total Fatal Injuries'] # Looking at 9/11 attacks\n"
   ]
  },
  {
   "cell_type": "code",
   "execution_count": 16,
   "metadata": {},
   "outputs": [
    {
     "name": "stdout",
     "output_type": "stream",
     "text": [
      "  Investigation Type Accident Number Event Date          Location  \\\n",
      "0           Accident      ERA14FA068 2013-12-08  Jacksonville, FL   \n",
      "\n",
      "         Country   Latitude   Longitude Airport Code  \\\n",
      "0  United States  30.319723  -81.514167          CRG   \n",
      "\n",
      "                     Airport Name Injury Severity  ... Purpose of Flight  \\\n",
      "0  Jacksonville Executive Airport        Fatal(3)  ...          Personal   \n",
      "\n",
      "  Total Fatal Injuries Total Serious Injuries Total Minor Injuries  \\\n",
      "0                    3                      0                    0   \n",
      "\n",
      "  Total Uninjured Weather Condition  is_fatal Month  Day    Year  \n",
      "0               0               IMC         1  12.0  8.0  2013.0  \n",
      "\n",
      "[1 rows x 25 columns]\n"
     ]
    }
   ],
   "source": [
    "data['Country'].value_counts()\n",
    "# Interesting to see most of the large plane crashes are in the US folowed by Colombia, Peru, Nigeria\n",
    "print(data.head(1))"
   ]
  },
  {
   "cell_type": "markdown",
   "metadata": {},
   "source": [
    "# Check fatality rate for plane crashes?\n",
    "# Is Fatal?\n",
    "# Are flights overall becoming more safe?\n",
    "# Are large planes safer than small planes?\n",
    "# Is it dangerous to fly in bad weather?"
   ]
  },
  {
   "cell_type": "markdown",
   "metadata": {},
   "source": [
    "<!-- Narrow to United states\n",
    "Lat/Long only 30% of data\n",
    "Plot by state maybe\n",
    "Fatality rate {by_state, by_plane_type, by_year, by_weather}\n",
    "Build classifier based off US to predict fatalities -->"
   ]
  },
  {
   "cell_type": "code",
   "execution_count": 17,
   "metadata": {},
   "outputs": [
    {
     "data": {
      "text/html": [
       "<div>\n",
       "<style scoped>\n",
       "    .dataframe tbody tr th:only-of-type {\n",
       "        vertical-align: middle;\n",
       "    }\n",
       "\n",
       "    .dataframe tbody tr th {\n",
       "        vertical-align: top;\n",
       "    }\n",
       "\n",
       "    .dataframe thead th {\n",
       "        text-align: right;\n",
       "    }\n",
       "</style>\n",
       "<table border=\"1\" class=\"dataframe\">\n",
       "  <thead>\n",
       "    <tr style=\"text-align: right;\">\n",
       "      <th></th>\n",
       "      <th>Investigation Type</th>\n",
       "      <th>Accident Number</th>\n",
       "      <th>Event Date</th>\n",
       "      <th>Location</th>\n",
       "      <th>Country</th>\n",
       "      <th>Latitude</th>\n",
       "      <th>Longitude</th>\n",
       "      <th>Airport Code</th>\n",
       "      <th>Airport Name</th>\n",
       "      <th>Injury Severity</th>\n",
       "      <th>...</th>\n",
       "      <th>Purpose of Flight</th>\n",
       "      <th>Total Fatal Injuries</th>\n",
       "      <th>Total Serious Injuries</th>\n",
       "      <th>Total Minor Injuries</th>\n",
       "      <th>Total Uninjured</th>\n",
       "      <th>Weather Condition</th>\n",
       "      <th>is_fatal</th>\n",
       "      <th>Month</th>\n",
       "      <th>Day</th>\n",
       "      <th>Year</th>\n",
       "    </tr>\n",
       "  </thead>\n",
       "  <tbody>\n",
       "    <tr>\n",
       "      <th>0</th>\n",
       "      <td>Accident</td>\n",
       "      <td>ERA14FA068</td>\n",
       "      <td>2013-12-08</td>\n",
       "      <td>Jacksonville, FL</td>\n",
       "      <td>United States</td>\n",
       "      <td>30.319723</td>\n",
       "      <td>-81.514167</td>\n",
       "      <td>CRG</td>\n",
       "      <td>Jacksonville Executive Airport</td>\n",
       "      <td>Fatal(3)</td>\n",
       "      <td>...</td>\n",
       "      <td>Personal</td>\n",
       "      <td>3</td>\n",
       "      <td>0</td>\n",
       "      <td>0</td>\n",
       "      <td>0</td>\n",
       "      <td>IMC</td>\n",
       "      <td>1</td>\n",
       "      <td>12.0</td>\n",
       "      <td>8.0</td>\n",
       "      <td>2013.0</td>\n",
       "    </tr>\n",
       "    <tr>\n",
       "      <th>1</th>\n",
       "      <td>Accident</td>\n",
       "      <td>ERA14FA066</td>\n",
       "      <td>2013-12-06</td>\n",
       "      <td>Sebring, FL</td>\n",
       "      <td>United States</td>\n",
       "      <td>27.463333</td>\n",
       "      <td>-81.366667</td>\n",
       "      <td>SEF</td>\n",
       "      <td>Sebring Regional Airport</td>\n",
       "      <td>Fatal(1)</td>\n",
       "      <td>...</td>\n",
       "      <td>Positioning</td>\n",
       "      <td>1</td>\n",
       "      <td>0</td>\n",
       "      <td>0</td>\n",
       "      <td>0</td>\n",
       "      <td>NaN</td>\n",
       "      <td>1</td>\n",
       "      <td>12.0</td>\n",
       "      <td>6.0</td>\n",
       "      <td>2013.0</td>\n",
       "    </tr>\n",
       "    <tr>\n",
       "      <th>2</th>\n",
       "      <td>Accident</td>\n",
       "      <td>ANC14CA010</td>\n",
       "      <td>2013-12-04</td>\n",
       "      <td>Soldotna, AK</td>\n",
       "      <td>United States</td>\n",
       "      <td>NaN</td>\n",
       "      <td>NaN</td>\n",
       "      <td>NaN</td>\n",
       "      <td>NaN</td>\n",
       "      <td>NaN</td>\n",
       "      <td>...</td>\n",
       "      <td>NaN</td>\n",
       "      <td>0</td>\n",
       "      <td>0</td>\n",
       "      <td>0</td>\n",
       "      <td>0</td>\n",
       "      <td>NaN</td>\n",
       "      <td>0</td>\n",
       "      <td>12.0</td>\n",
       "      <td>4.0</td>\n",
       "      <td>2013.0</td>\n",
       "    </tr>\n",
       "    <tr>\n",
       "      <th>3</th>\n",
       "      <td>Accident</td>\n",
       "      <td>ERA14CA062</td>\n",
       "      <td>2013-12-03</td>\n",
       "      <td>Hendersonville, NC</td>\n",
       "      <td>United States</td>\n",
       "      <td>NaN</td>\n",
       "      <td>NaN</td>\n",
       "      <td>NaN</td>\n",
       "      <td>NaN</td>\n",
       "      <td>NaN</td>\n",
       "      <td>...</td>\n",
       "      <td>NaN</td>\n",
       "      <td>0</td>\n",
       "      <td>0</td>\n",
       "      <td>0</td>\n",
       "      <td>0</td>\n",
       "      <td>NaN</td>\n",
       "      <td>0</td>\n",
       "      <td>12.0</td>\n",
       "      <td>3.0</td>\n",
       "      <td>2013.0</td>\n",
       "    </tr>\n",
       "    <tr>\n",
       "      <th>4</th>\n",
       "      <td>Accident</td>\n",
       "      <td>ERA14LA059</td>\n",
       "      <td>2013-12-02</td>\n",
       "      <td>Trenton, SC</td>\n",
       "      <td>United States</td>\n",
       "      <td>33.736944</td>\n",
       "      <td>-81.818611</td>\n",
       "      <td>6J6</td>\n",
       "      <td>Edgefield County Airport</td>\n",
       "      <td>Non-Fatal</td>\n",
       "      <td>...</td>\n",
       "      <td>Personal</td>\n",
       "      <td>0</td>\n",
       "      <td>0</td>\n",
       "      <td>1</td>\n",
       "      <td>0</td>\n",
       "      <td>NaN</td>\n",
       "      <td>0</td>\n",
       "      <td>12.0</td>\n",
       "      <td>2.0</td>\n",
       "      <td>2013.0</td>\n",
       "    </tr>\n",
       "    <tr>\n",
       "      <th>...</th>\n",
       "      <td>...</td>\n",
       "      <td>...</td>\n",
       "      <td>...</td>\n",
       "      <td>...</td>\n",
       "      <td>...</td>\n",
       "      <td>...</td>\n",
       "      <td>...</td>\n",
       "      <td>...</td>\n",
       "      <td>...</td>\n",
       "      <td>...</td>\n",
       "      <td>...</td>\n",
       "      <td>...</td>\n",
       "      <td>...</td>\n",
       "      <td>...</td>\n",
       "      <td>...</td>\n",
       "      <td>...</td>\n",
       "      <td>...</td>\n",
       "      <td>...</td>\n",
       "      <td>...</td>\n",
       "      <td>...</td>\n",
       "      <td>...</td>\n",
       "    </tr>\n",
       "    <tr>\n",
       "      <th>74422</th>\n",
       "      <td>Accident</td>\n",
       "      <td>LAX96LA321</td>\n",
       "      <td>1977-06-19</td>\n",
       "      <td>EUREKA, CA</td>\n",
       "      <td>United States</td>\n",
       "      <td>NaN</td>\n",
       "      <td>NaN</td>\n",
       "      <td>NaN</td>\n",
       "      <td>NaN</td>\n",
       "      <td>Fatal(2)</td>\n",
       "      <td>...</td>\n",
       "      <td>Personal</td>\n",
       "      <td>2</td>\n",
       "      <td>0</td>\n",
       "      <td>0</td>\n",
       "      <td>0</td>\n",
       "      <td>IMC</td>\n",
       "      <td>1</td>\n",
       "      <td>6.0</td>\n",
       "      <td>19.0</td>\n",
       "      <td>1977.0</td>\n",
       "    </tr>\n",
       "    <tr>\n",
       "      <th>74423</th>\n",
       "      <td>Accident</td>\n",
       "      <td>NYC07LA005</td>\n",
       "      <td>1974-08-30</td>\n",
       "      <td>Saltville, VA</td>\n",
       "      <td>United States</td>\n",
       "      <td>36.922223</td>\n",
       "      <td>-81.878056</td>\n",
       "      <td>NaN</td>\n",
       "      <td>NaN</td>\n",
       "      <td>Fatal(3)</td>\n",
       "      <td>...</td>\n",
       "      <td>Personal</td>\n",
       "      <td>3</td>\n",
       "      <td>0</td>\n",
       "      <td>0</td>\n",
       "      <td>0</td>\n",
       "      <td>IMC</td>\n",
       "      <td>1</td>\n",
       "      <td>8.0</td>\n",
       "      <td>30.0</td>\n",
       "      <td>1974.0</td>\n",
       "    </tr>\n",
       "    <tr>\n",
       "      <th>74424</th>\n",
       "      <td>Accident</td>\n",
       "      <td>LAX94LA336</td>\n",
       "      <td>1962-07-19</td>\n",
       "      <td>BRIDGEPORT, CA</td>\n",
       "      <td>United States</td>\n",
       "      <td>NaN</td>\n",
       "      <td>NaN</td>\n",
       "      <td>NaN</td>\n",
       "      <td>NaN</td>\n",
       "      <td>Fatal(4)</td>\n",
       "      <td>...</td>\n",
       "      <td>Personal</td>\n",
       "      <td>4</td>\n",
       "      <td>0</td>\n",
       "      <td>0</td>\n",
       "      <td>0</td>\n",
       "      <td>UNK</td>\n",
       "      <td>1</td>\n",
       "      <td>7.0</td>\n",
       "      <td>19.0</td>\n",
       "      <td>1962.0</td>\n",
       "    </tr>\n",
       "    <tr>\n",
       "      <th>74425</th>\n",
       "      <td>Accident</td>\n",
       "      <td>SEA87LA080</td>\n",
       "      <td>1948-10-24</td>\n",
       "      <td>MOOSE CREEK, ID</td>\n",
       "      <td>United States</td>\n",
       "      <td>NaN</td>\n",
       "      <td>NaN</td>\n",
       "      <td>NaN</td>\n",
       "      <td>NaN</td>\n",
       "      <td>Fatal(2)</td>\n",
       "      <td>...</td>\n",
       "      <td>Personal</td>\n",
       "      <td>2</td>\n",
       "      <td>0</td>\n",
       "      <td>0</td>\n",
       "      <td>0</td>\n",
       "      <td>UNK</td>\n",
       "      <td>1</td>\n",
       "      <td>10.0</td>\n",
       "      <td>24.0</td>\n",
       "      <td>1948.0</td>\n",
       "    </tr>\n",
       "    <tr>\n",
       "      <th>74426</th>\n",
       "      <td>Accident</td>\n",
       "      <td>WPR12TA445</td>\n",
       "      <td>NaT</td>\n",
       "      <td>Unknown, UN</td>\n",
       "      <td>United States</td>\n",
       "      <td>NaN</td>\n",
       "      <td>NaN</td>\n",
       "      <td>NaN</td>\n",
       "      <td>NaN</td>\n",
       "      <td>Non-Fatal</td>\n",
       "      <td>...</td>\n",
       "      <td>PUBF</td>\n",
       "      <td>0</td>\n",
       "      <td>0</td>\n",
       "      <td>0</td>\n",
       "      <td>1</td>\n",
       "      <td>NaN</td>\n",
       "      <td>0</td>\n",
       "      <td>NaN</td>\n",
       "      <td>NaN</td>\n",
       "      <td>NaN</td>\n",
       "    </tr>\n",
       "  </tbody>\n",
       "</table>\n",
       "<p>70757 rows × 25 columns</p>\n",
       "</div>"
      ],
      "text/plain": [
       "      Investigation Type Accident Number Event Date            Location  \\\n",
       "0               Accident      ERA14FA068 2013-12-08    Jacksonville, FL   \n",
       "1               Accident      ERA14FA066 2013-12-06         Sebring, FL   \n",
       "2               Accident      ANC14CA010 2013-12-04        Soldotna, AK   \n",
       "3               Accident      ERA14CA062 2013-12-03  Hendersonville, NC   \n",
       "4               Accident      ERA14LA059 2013-12-02         Trenton, SC   \n",
       "...                  ...             ...        ...                 ...   \n",
       "74422           Accident      LAX96LA321 1977-06-19          EUREKA, CA   \n",
       "74423           Accident      NYC07LA005 1974-08-30       Saltville, VA   \n",
       "74424           Accident      LAX94LA336 1962-07-19      BRIDGEPORT, CA   \n",
       "74425           Accident      SEA87LA080 1948-10-24     MOOSE CREEK, ID   \n",
       "74426           Accident      WPR12TA445        NaT         Unknown, UN   \n",
       "\n",
       "             Country   Latitude   Longitude Airport Code  \\\n",
       "0      United States  30.319723  -81.514167          CRG   \n",
       "1      United States  27.463333  -81.366667          SEF   \n",
       "2      United States        NaN         NaN          NaN   \n",
       "3      United States        NaN         NaN          NaN   \n",
       "4      United States  33.736944  -81.818611          6J6   \n",
       "...              ...        ...         ...          ...   \n",
       "74422  United States        NaN         NaN          NaN   \n",
       "74423  United States  36.922223  -81.878056          NaN   \n",
       "74424  United States        NaN         NaN          NaN   \n",
       "74425  United States        NaN         NaN          NaN   \n",
       "74426  United States        NaN         NaN          NaN   \n",
       "\n",
       "                         Airport Name Injury Severity  ... Purpose of Flight  \\\n",
       "0      Jacksonville Executive Airport        Fatal(3)  ...          Personal   \n",
       "1            Sebring Regional Airport        Fatal(1)  ...       Positioning   \n",
       "2                                 NaN             NaN  ...               NaN   \n",
       "3                                 NaN             NaN  ...               NaN   \n",
       "4            Edgefield County Airport       Non-Fatal  ...          Personal   \n",
       "...                               ...             ...  ...               ...   \n",
       "74422                             NaN        Fatal(2)  ...          Personal   \n",
       "74423                             NaN        Fatal(3)  ...          Personal   \n",
       "74424                             NaN        Fatal(4)  ...          Personal   \n",
       "74425                             NaN        Fatal(2)  ...          Personal   \n",
       "74426                             NaN       Non-Fatal  ...              PUBF   \n",
       "\n",
       "      Total Fatal Injuries Total Serious Injuries Total Minor Injuries  \\\n",
       "0                        3                      0                    0   \n",
       "1                        1                      0                    0   \n",
       "2                        0                      0                    0   \n",
       "3                        0                      0                    0   \n",
       "4                        0                      0                    1   \n",
       "...                    ...                    ...                  ...   \n",
       "74422                    2                      0                    0   \n",
       "74423                    3                      0                    0   \n",
       "74424                    4                      0                    0   \n",
       "74425                    2                      0                    0   \n",
       "74426                    0                      0                    0   \n",
       "\n",
       "      Total Uninjured Weather Condition  is_fatal Month   Day    Year  \n",
       "0                   0               IMC         1  12.0   8.0  2013.0  \n",
       "1                   0               NaN         1  12.0   6.0  2013.0  \n",
       "2                   0               NaN         0  12.0   4.0  2013.0  \n",
       "3                   0               NaN         0  12.0   3.0  2013.0  \n",
       "4                   0               NaN         0  12.0   2.0  2013.0  \n",
       "...               ...               ...       ...   ...   ...     ...  \n",
       "74422               0               IMC         1   6.0  19.0  1977.0  \n",
       "74423               0               IMC         1   8.0  30.0  1974.0  \n",
       "74424               0               UNK         1   7.0  19.0  1962.0  \n",
       "74425               0               UNK         1  10.0  24.0  1948.0  \n",
       "74426               1               NaN         0   NaN   NaN     NaN  \n",
       "\n",
       "[70757 rows x 25 columns]"
      ]
     },
     "execution_count": 17,
     "metadata": {},
     "output_type": "execute_result"
    }
   ],
   "source": [
    "# Add column is_fatal\n",
    "US_accidents = data[data['Country'] == 'United States']\n",
    "US_accidents"
   ]
  },
  {
   "cell_type": "markdown",
   "metadata": {},
   "source": [
    "## Look at frequency of plane crashes by state"
   ]
  },
  {
   "cell_type": "code",
   "execution_count": 18,
   "metadata": {},
   "outputs": [
    {
     "name": "stdout",
     "output_type": "stream",
     "text": [
      " CA              7811\n",
      " FL              4938\n",
      " AK              4912\n",
      " TX              4910\n",
      " AZ              2410\n",
      "                 ... \n",
      "Kauai               1\n",
      " San Juan Is.       1\n",
      " Maui               1\n",
      " MP                 1\n",
      " FT. MYER           1\n",
      "Name: Location_State, Length: 79, dtype: int64\n"
     ]
    },
    {
     "name": "stderr",
     "output_type": "stream",
     "text": [
      "/Users/adam/opt/anaconda3/lib/python3.7/site-packages/pandas/core/frame.py:3636: SettingWithCopyWarning: \n",
      "A value is trying to be set on a copy of a slice from a DataFrame.\n",
      "Try using .loc[row_indexer,col_indexer] = value instead\n",
      "\n",
      "See the caveats in the documentation: https://pandas.pydata.org/pandas-docs/stable/user_guide/indexing.html#returning-a-view-versus-a-copy\n",
      "  self[k1] = value[k2]\n"
     ]
    },
    {
     "data": {
      "text/plain": [
       "<matplotlib.axes._subplots.AxesSubplot at 0x7ff2c2695b10>"
      ]
     },
     "execution_count": 18,
     "metadata": {},
     "output_type": "execute_result"
    },
    {
     "data": {
      "image/png": "[encoded data removed]",
      "text/plain": [
       "<Figure size 432x288 with 1 Axes>"
      ]
     },
     "metadata": {
      "needs_background": "light"
     },
     "output_type": "display_data"
    }
   ],
   "source": [
    "# Location (Stolen from Ryan's notebook)\n",
    "US_accidents[['Location_City','Location_State']] = US_accidents['Location'].str.split(',',expand=True)[[0,1]]\n",
    "US_accidents[['Location','Location_City','Location_State']].head()\n",
    "\n",
    "US_accidents.groupby(['Location_State']).count()\n",
    "\n",
    "freq_by_state = US_accidents['Location_State'].value_counts()\n",
    "print(freq_by_state)\n",
    "freq_by_state[:5].plot(kind='bar', title='Top Frequency of Plane crashes by state', ylabel='Count')\n",
    "\n"
   ]
  },
  {
   "cell_type": "markdown",
   "metadata": {},
   "source": [
    "Looking by state, CA is by far the greatest frequency. Could be due to highest population."
   ]
  },
  {
   "cell_type": "code",
   "execution_count": 19,
   "metadata": {},
   "outputs": [],
   "source": [
    "def plot_frequency_by_state(data, title, ylabel):\n",
    "    # plot frequency of crashes by state\n",
    "    freq_by_state = data['Location_State'].value_counts()\n",
    "    print(freq_by_state)\n",
    "    freq_by_state[:5].plot(kind='bar', title=title, ylabel=ylabel)\n"
   ]
  },
  {
   "cell_type": "code",
   "execution_count": 20,
   "metadata": {},
   "outputs": [],
   "source": [
    "def plot_frequency_by_country(data, title, ylabel):\n",
    "    # plot frequency of crashes by country\n",
    "    \n",
    "    freq_by_country = data['Country'].value_counts()\n",
    "    print(freq_by_country)\n",
    "    freq_by_country[:5].plot(kind='bar', title=title, ylabel=ylabel)"
   ]
  },
  {
   "cell_type": "code",
   "execution_count": 21,
   "metadata": {},
   "outputs": [
    {
     "name": "stdout",
     "output_type": "stream",
     "text": [
      " CA              7811\n",
      " FL              4938\n",
      " AK              4912\n",
      " TX              4910\n",
      " AZ              2410\n",
      "                 ... \n",
      "Kauai               1\n",
      " San Juan Is.       1\n",
      " Maui               1\n",
      " MP                 1\n",
      " FT. MYER           1\n",
      "Name: Location_State, Length: 79, dtype: int64\n"
     ]
    },
    {
     "data": {
      "image/png": "[encoded data removed]",
      "text/plain": [
       "<Figure size 432x288 with 1 Axes>"
      ]
     },
     "metadata": {
      "needs_background": "light"
     },
     "output_type": "display_data"
    }
   ],
   "source": [
    "plot_frequency_by_state(US_accidents, 'Top Frequency of Plane crashes by state', 'Count')\n",
    "# Looking at the top 5 states with the most plane crashes\n",
    "# CA is the most common state with the most plane crashes\n",
    "# Followed by TX, FL, and NY"
   ]
  },
  {
   "cell_type": "code",
   "execution_count": 22,
   "metadata": {},
   "outputs": [
    {
     "name": "stdout",
     "output_type": "stream",
     "text": [
      "United States    70757\n",
      "Canada             204\n",
      "Mexico             188\n",
      "Bahamas            182\n",
      "Australia          158\n",
      "                 ...  \n",
      "Eritrea              1\n",
      "Ivory Coast          1\n",
      "Niger                1\n",
      "Madagascar           1\n",
      "Bermuda              1\n",
      "Name: Country, Length: 170, dtype: int64\n"
     ]
    },
    {
     "data": {
      "image/png": "[encoded data removed]",
      "text/plain": [
       "<Figure size 432x288 with 1 Axes>"
      ]
     },
     "metadata": {
      "needs_background": "light"
     },
     "output_type": "display_data"
    }
   ],
   "source": [
    "plot_frequency_by_country(data, 'Top Frequency of Plane crashes by country', 'Count')\n",
    "\n",
    "\n",
    "# Looking at the top 5 countries with the most plane crashes\n",
    "# US is the most common country with the most plane crashes\n",
    "# Followed by China, India, and Russia"
   ]
  },
  {
   "cell_type": "markdown",
   "metadata": {},
   "source": [
    "It appears that more than 90% of the crashes in the dataset are from the United States. Due to this, we will focus our analysis on US\n",
    "Crash Data. "
   ]
  },
  {
   "cell_type": "markdown",
   "metadata": {},
   "source": [
    "## Logistic Regression to Predict if plane crash is fatal or not\n"
   ]
  },
  {
   "cell_type": "code",
   "execution_count": 23,
   "metadata": {},
   "outputs": [
    {
     "name": "stdout",
     "output_type": "stream",
     "text": [
      "Index(['Investigation Type', 'Accident Number', 'Event Date', 'Location',\n",
      "       'Country', 'Latitude', 'Longitude', 'Airport Code', 'Airport Name',\n",
      "       'Injury Severity', 'Aircraft Damage', 'Aircraft Category', 'Make',\n",
      "       'Number of Engines', 'Engine Type', 'Purpose of Flight',\n",
      "       'Total Fatal Injuries', 'Total Serious Injuries',\n",
      "       'Total Minor Injuries', 'Total Uninjured', 'Weather Condition',\n",
      "       'is_fatal', 'Month', 'Day', 'Year', 'Location_City', 'Location_State'],\n",
      "      dtype='object')\n",
      "Investigation Type                object\n",
      "Accident Number                   object\n",
      "Event Date                datetime64[ns]\n",
      "Location                          object\n",
      "Country                           object\n",
      "Latitude                          object\n",
      "Longitude                         object\n",
      "Airport Code                      object\n",
      "Airport Name                      object\n",
      "Injury Severity                   object\n",
      "Aircraft Damage                   object\n",
      "Aircraft Category                 object\n",
      "Make                              object\n",
      "Number of Engines                 object\n",
      "Engine Type                       object\n",
      "Purpose of Flight                 object\n",
      "Total Fatal Injuries               int64\n",
      "Total Serious Injuries            object\n",
      "Total Minor Injuries              object\n",
      "Total Uninjured                   object\n",
      "Weather Condition                 object\n",
      "is_fatal                           int64\n",
      "Month                            float64\n",
      "Day                              float64\n",
      "Year                             float64\n",
      "Location_City                     object\n",
      "Location_State                    object\n",
      "dtype: object\n",
      "  Investigation Type Accident Number Event Date            Location  \\\n",
      "0           Accident      ERA14FA068 2013-12-08    Jacksonville, FL   \n",
      "1           Accident      ERA14FA066 2013-12-06         Sebring, FL   \n",
      "2           Accident      ANC14CA010 2013-12-04        Soldotna, AK   \n",
      "3           Accident      ERA14CA062 2013-12-03  Hendersonville, NC   \n",
      "4           Accident      ERA14LA059 2013-12-02         Trenton, SC   \n",
      "\n",
      "         Country   Latitude   Longitude Airport Code  \\\n",
      "0  United States  30.319723  -81.514167          CRG   \n",
      "1  United States  27.463333  -81.366667          SEF   \n",
      "2  United States        NaN         NaN          NaN   \n",
      "3  United States        NaN         NaN          NaN   \n",
      "4  United States  33.736944  -81.818611          6J6   \n",
      "\n",
      "                     Airport Name Injury Severity  ... Total Serious Injuries  \\\n",
      "0  Jacksonville Executive Airport        Fatal(3)  ...                      0   \n",
      "1        Sebring Regional Airport        Fatal(1)  ...                      0   \n",
      "2                             NaN             NaN  ...                      0   \n",
      "3                             NaN             NaN  ...                      0   \n",
      "4        Edgefield County Airport       Non-Fatal  ...                      0   \n",
      "\n",
      "  Total Minor Injuries Total Uninjured Weather Condition is_fatal Month  Day  \\\n",
      "0                    0               0               IMC        1  12.0  8.0   \n",
      "1                    0               0               NaN        1  12.0  6.0   \n",
      "2                    0               0               NaN        0  12.0  4.0   \n",
      "3                    0               0               NaN        0  12.0  3.0   \n",
      "4                    1               0               NaN        0  12.0  2.0   \n",
      "\n",
      "     Year   Location_City Location_State  \n",
      "0  2013.0    Jacksonville             FL  \n",
      "1  2013.0         Sebring             FL  \n",
      "2  2013.0        Soldotna             AK  \n",
      "3  2013.0  Hendersonville             NC  \n",
      "4  2013.0         Trenton             SC  \n",
      "\n",
      "[5 rows x 27 columns]\n"
     ]
    }
   ],
   "source": [
    "print(US_accidents.columns)\n",
    "print(US_accidents.dtypes)\n",
    "print(US_accidents.head())"
   ]
  },
  {
   "cell_type": "code",
   "execution_count": 24,
   "metadata": {},
   "outputs": [
    {
     "name": "stderr",
     "output_type": "stream",
     "text": [
      "ipykernel_launcher:2: SettingWithCopyWarning: \n",
      "A value is trying to be set on a copy of a slice from a DataFrame.\n",
      "Try using .loc[row_indexer,col_indexer] = value instead\n",
      "\n",
      "See the caveats in the documentation: https://pandas.pydata.org/pandas-docs/stable/user_guide/indexing.html#returning-a-view-versus-a-copy\n"
     ]
    },
    {
     "data": {
      "text/html": [
       "<div>\n",
       "<style scoped>\n",
       "    .dataframe tbody tr th:only-of-type {\n",
       "        vertical-align: middle;\n",
       "    }\n",
       "\n",
       "    .dataframe tbody tr th {\n",
       "        vertical-align: top;\n",
       "    }\n",
       "\n",
       "    .dataframe thead th {\n",
       "        text-align: right;\n",
       "    }\n",
       "</style>\n",
       "<table border=\"1\" class=\"dataframe\">\n",
       "  <thead>\n",
       "    <tr style=\"text-align: right;\">\n",
       "      <th></th>\n",
       "      <th>Investigation Type</th>\n",
       "      <th>Accident Number</th>\n",
       "      <th>Event Date</th>\n",
       "      <th>Location</th>\n",
       "      <th>Country</th>\n",
       "      <th>Latitude</th>\n",
       "      <th>Longitude</th>\n",
       "      <th>Airport Code</th>\n",
       "      <th>Airport Name</th>\n",
       "      <th>Injury Severity</th>\n",
       "      <th>...</th>\n",
       "      <th>Total Minor Injuries</th>\n",
       "      <th>Total Uninjured</th>\n",
       "      <th>Weather Condition</th>\n",
       "      <th>is_fatal</th>\n",
       "      <th>Month</th>\n",
       "      <th>Day</th>\n",
       "      <th>Year</th>\n",
       "      <th>Location_City</th>\n",
       "      <th>Location_State</th>\n",
       "      <th>Weather Condtion</th>\n",
       "    </tr>\n",
       "  </thead>\n",
       "  <tbody>\n",
       "    <tr>\n",
       "      <th>0</th>\n",
       "      <td>Accident</td>\n",
       "      <td>ERA14FA068</td>\n",
       "      <td>2013-12-08</td>\n",
       "      <td>Jacksonville, FL</td>\n",
       "      <td>United States</td>\n",
       "      <td>30.319723</td>\n",
       "      <td>-81.514167</td>\n",
       "      <td>CRG</td>\n",
       "      <td>Jacksonville Executive Airport</td>\n",
       "      <td>Fatal(3)</td>\n",
       "      <td>...</td>\n",
       "      <td>0</td>\n",
       "      <td>0</td>\n",
       "      <td>IMC</td>\n",
       "      <td>1</td>\n",
       "      <td>12.0</td>\n",
       "      <td>8.0</td>\n",
       "      <td>2013.0</td>\n",
       "      <td>Jacksonville</td>\n",
       "      <td>FL</td>\n",
       "      <td>IMC</td>\n",
       "    </tr>\n",
       "    <tr>\n",
       "      <th>1</th>\n",
       "      <td>Accident</td>\n",
       "      <td>ERA14FA066</td>\n",
       "      <td>2013-12-06</td>\n",
       "      <td>Sebring, FL</td>\n",
       "      <td>United States</td>\n",
       "      <td>27.463333</td>\n",
       "      <td>-81.366667</td>\n",
       "      <td>SEF</td>\n",
       "      <td>Sebring Regional Airport</td>\n",
       "      <td>Fatal(1)</td>\n",
       "      <td>...</td>\n",
       "      <td>0</td>\n",
       "      <td>0</td>\n",
       "      <td>NaN</td>\n",
       "      <td>1</td>\n",
       "      <td>12.0</td>\n",
       "      <td>6.0</td>\n",
       "      <td>2013.0</td>\n",
       "      <td>Sebring</td>\n",
       "      <td>FL</td>\n",
       "      <td>NaN</td>\n",
       "    </tr>\n",
       "    <tr>\n",
       "      <th>2</th>\n",
       "      <td>Accident</td>\n",
       "      <td>ANC14CA010</td>\n",
       "      <td>2013-12-04</td>\n",
       "      <td>Soldotna, AK</td>\n",
       "      <td>United States</td>\n",
       "      <td>NaN</td>\n",
       "      <td>NaN</td>\n",
       "      <td>NaN</td>\n",
       "      <td>NaN</td>\n",
       "      <td>NaN</td>\n",
       "      <td>...</td>\n",
       "      <td>0</td>\n",
       "      <td>0</td>\n",
       "      <td>NaN</td>\n",
       "      <td>0</td>\n",
       "      <td>12.0</td>\n",
       "      <td>4.0</td>\n",
       "      <td>2013.0</td>\n",
       "      <td>Soldotna</td>\n",
       "      <td>AK</td>\n",
       "      <td>NaN</td>\n",
       "    </tr>\n",
       "    <tr>\n",
       "      <th>3</th>\n",
       "      <td>Accident</td>\n",
       "      <td>ERA14CA062</td>\n",
       "      <td>2013-12-03</td>\n",
       "      <td>Hendersonville, NC</td>\n",
       "      <td>United States</td>\n",
       "      <td>NaN</td>\n",
       "      <td>NaN</td>\n",
       "      <td>NaN</td>\n",
       "      <td>NaN</td>\n",
       "      <td>NaN</td>\n",
       "      <td>...</td>\n",
       "      <td>0</td>\n",
       "      <td>0</td>\n",
       "      <td>NaN</td>\n",
       "      <td>0</td>\n",
       "      <td>12.0</td>\n",
       "      <td>3.0</td>\n",
       "      <td>2013.0</td>\n",
       "      <td>Hendersonville</td>\n",
       "      <td>NC</td>\n",
       "      <td>NaN</td>\n",
       "    </tr>\n",
       "    <tr>\n",
       "      <th>4</th>\n",
       "      <td>Accident</td>\n",
       "      <td>ERA14LA059</td>\n",
       "      <td>2013-12-02</td>\n",
       "      <td>Trenton, SC</td>\n",
       "      <td>United States</td>\n",
       "      <td>33.736944</td>\n",
       "      <td>-81.818611</td>\n",
       "      <td>6J6</td>\n",
       "      <td>Edgefield County Airport</td>\n",
       "      <td>Non-Fatal</td>\n",
       "      <td>...</td>\n",
       "      <td>1</td>\n",
       "      <td>0</td>\n",
       "      <td>NaN</td>\n",
       "      <td>0</td>\n",
       "      <td>12.0</td>\n",
       "      <td>2.0</td>\n",
       "      <td>2013.0</td>\n",
       "      <td>Trenton</td>\n",
       "      <td>SC</td>\n",
       "      <td>NaN</td>\n",
       "    </tr>\n",
       "    <tr>\n",
       "      <th>...</th>\n",
       "      <td>...</td>\n",
       "      <td>...</td>\n",
       "      <td>...</td>\n",
       "      <td>...</td>\n",
       "      <td>...</td>\n",
       "      <td>...</td>\n",
       "      <td>...</td>\n",
       "      <td>...</td>\n",
       "      <td>...</td>\n",
       "      <td>...</td>\n",
       "      <td>...</td>\n",
       "      <td>...</td>\n",
       "      <td>...</td>\n",
       "      <td>...</td>\n",
       "      <td>...</td>\n",
       "      <td>...</td>\n",
       "      <td>...</td>\n",
       "      <td>...</td>\n",
       "      <td>...</td>\n",
       "      <td>...</td>\n",
       "      <td>...</td>\n",
       "    </tr>\n",
       "    <tr>\n",
       "      <th>74422</th>\n",
       "      <td>Accident</td>\n",
       "      <td>LAX96LA321</td>\n",
       "      <td>1977-06-19</td>\n",
       "      <td>EUREKA, CA</td>\n",
       "      <td>United States</td>\n",
       "      <td>NaN</td>\n",
       "      <td>NaN</td>\n",
       "      <td>NaN</td>\n",
       "      <td>NaN</td>\n",
       "      <td>Fatal(2)</td>\n",
       "      <td>...</td>\n",
       "      <td>0</td>\n",
       "      <td>0</td>\n",
       "      <td>IMC</td>\n",
       "      <td>1</td>\n",
       "      <td>6.0</td>\n",
       "      <td>19.0</td>\n",
       "      <td>1977.0</td>\n",
       "      <td>EUREKA</td>\n",
       "      <td>CA</td>\n",
       "      <td>IMC</td>\n",
       "    </tr>\n",
       "    <tr>\n",
       "      <th>74423</th>\n",
       "      <td>Accident</td>\n",
       "      <td>NYC07LA005</td>\n",
       "      <td>1974-08-30</td>\n",
       "      <td>Saltville, VA</td>\n",
       "      <td>United States</td>\n",
       "      <td>36.922223</td>\n",
       "      <td>-81.878056</td>\n",
       "      <td>NaN</td>\n",
       "      <td>NaN</td>\n",
       "      <td>Fatal(3)</td>\n",
       "      <td>...</td>\n",
       "      <td>0</td>\n",
       "      <td>0</td>\n",
       "      <td>IMC</td>\n",
       "      <td>1</td>\n",
       "      <td>8.0</td>\n",
       "      <td>30.0</td>\n",
       "      <td>1974.0</td>\n",
       "      <td>Saltville</td>\n",
       "      <td>VA</td>\n",
       "      <td>IMC</td>\n",
       "    </tr>\n",
       "    <tr>\n",
       "      <th>74424</th>\n",
       "      <td>Accident</td>\n",
       "      <td>LAX94LA336</td>\n",
       "      <td>1962-07-19</td>\n",
       "      <td>BRIDGEPORT, CA</td>\n",
       "      <td>United States</td>\n",
       "      <td>NaN</td>\n",
       "      <td>NaN</td>\n",
       "      <td>NaN</td>\n",
       "      <td>NaN</td>\n",
       "      <td>Fatal(4)</td>\n",
       "      <td>...</td>\n",
       "      <td>0</td>\n",
       "      <td>0</td>\n",
       "      <td>UNK</td>\n",
       "      <td>1</td>\n",
       "      <td>7.0</td>\n",
       "      <td>19.0</td>\n",
       "      <td>1962.0</td>\n",
       "      <td>BRIDGEPORT</td>\n",
       "      <td>CA</td>\n",
       "      <td>UNK</td>\n",
       "    </tr>\n",
       "    <tr>\n",
       "      <th>74425</th>\n",
       "      <td>Accident</td>\n",
       "      <td>SEA87LA080</td>\n",
       "      <td>1948-10-24</td>\n",
       "      <td>MOOSE CREEK, ID</td>\n",
       "      <td>United States</td>\n",
       "      <td>NaN</td>\n",
       "      <td>NaN</td>\n",
       "      <td>NaN</td>\n",
       "      <td>NaN</td>\n",
       "      <td>Fatal(2)</td>\n",
       "      <td>...</td>\n",
       "      <td>0</td>\n",
       "      <td>0</td>\n",
       "      <td>UNK</td>\n",
       "      <td>1</td>\n",
       "      <td>10.0</td>\n",
       "      <td>24.0</td>\n",
       "      <td>1948.0</td>\n",
       "      <td>MOOSE CREEK</td>\n",
       "      <td>ID</td>\n",
       "      <td>UNK</td>\n",
       "    </tr>\n",
       "    <tr>\n",
       "      <th>74426</th>\n",
       "      <td>Accident</td>\n",
       "      <td>WPR12TA445</td>\n",
       "      <td>NaT</td>\n",
       "      <td>Unknown, UN</td>\n",
       "      <td>United States</td>\n",
       "      <td>NaN</td>\n",
       "      <td>NaN</td>\n",
       "      <td>NaN</td>\n",
       "      <td>NaN</td>\n",
       "      <td>Non-Fatal</td>\n",
       "      <td>...</td>\n",
       "      <td>0</td>\n",
       "      <td>1</td>\n",
       "      <td>NaN</td>\n",
       "      <td>0</td>\n",
       "      <td>NaN</td>\n",
       "      <td>NaN</td>\n",
       "      <td>NaN</td>\n",
       "      <td>Unknown</td>\n",
       "      <td>UN</td>\n",
       "      <td>NaN</td>\n",
       "    </tr>\n",
       "  </tbody>\n",
       "</table>\n",
       "<p>70757 rows × 28 columns</p>\n",
       "</div>"
      ],
      "text/plain": [
       "      Investigation Type Accident Number Event Date            Location  \\\n",
       "0               Accident      ERA14FA068 2013-12-08    Jacksonville, FL   \n",
       "1               Accident      ERA14FA066 2013-12-06         Sebring, FL   \n",
       "2               Accident      ANC14CA010 2013-12-04        Soldotna, AK   \n",
       "3               Accident      ERA14CA062 2013-12-03  Hendersonville, NC   \n",
       "4               Accident      ERA14LA059 2013-12-02         Trenton, SC   \n",
       "...                  ...             ...        ...                 ...   \n",
       "74422           Accident      LAX96LA321 1977-06-19          EUREKA, CA   \n",
       "74423           Accident      NYC07LA005 1974-08-30       Saltville, VA   \n",
       "74424           Accident      LAX94LA336 1962-07-19      BRIDGEPORT, CA   \n",
       "74425           Accident      SEA87LA080 1948-10-24     MOOSE CREEK, ID   \n",
       "74426           Accident      WPR12TA445        NaT         Unknown, UN   \n",
       "\n",
       "             Country   Latitude   Longitude Airport Code  \\\n",
       "0      United States  30.319723  -81.514167          CRG   \n",
       "1      United States  27.463333  -81.366667          SEF   \n",
       "2      United States        NaN         NaN          NaN   \n",
       "3      United States        NaN         NaN          NaN   \n",
       "4      United States  33.736944  -81.818611          6J6   \n",
       "...              ...        ...         ...          ...   \n",
       "74422  United States        NaN         NaN          NaN   \n",
       "74423  United States  36.922223  -81.878056          NaN   \n",
       "74424  United States        NaN         NaN          NaN   \n",
       "74425  United States        NaN         NaN          NaN   \n",
       "74426  United States        NaN         NaN          NaN   \n",
       "\n",
       "                         Airport Name Injury Severity  ...  \\\n",
       "0      Jacksonville Executive Airport        Fatal(3)  ...   \n",
       "1            Sebring Regional Airport        Fatal(1)  ...   \n",
       "2                                 NaN             NaN  ...   \n",
       "3                                 NaN             NaN  ...   \n",
       "4            Edgefield County Airport       Non-Fatal  ...   \n",
       "...                               ...             ...  ...   \n",
       "74422                             NaN        Fatal(2)  ...   \n",
       "74423                             NaN        Fatal(3)  ...   \n",
       "74424                             NaN        Fatal(4)  ...   \n",
       "74425                             NaN        Fatal(2)  ...   \n",
       "74426                             NaN       Non-Fatal  ...   \n",
       "\n",
       "      Total Minor Injuries Total Uninjured Weather Condition is_fatal Month  \\\n",
       "0                        0               0               IMC        1  12.0   \n",
       "1                        0               0               NaN        1  12.0   \n",
       "2                        0               0               NaN        0  12.0   \n",
       "3                        0               0               NaN        0  12.0   \n",
       "4                        1               0               NaN        0  12.0   \n",
       "...                    ...             ...               ...      ...   ...   \n",
       "74422                    0               0               IMC        1   6.0   \n",
       "74423                    0               0               IMC        1   8.0   \n",
       "74424                    0               0               UNK        1   7.0   \n",
       "74425                    0               0               UNK        1  10.0   \n",
       "74426                    0               1               NaN        0   NaN   \n",
       "\n",
       "        Day    Year   Location_City Location_State Weather Condtion  \n",
       "0       8.0  2013.0    Jacksonville             FL              IMC  \n",
       "1       6.0  2013.0         Sebring             FL              NaN  \n",
       "2       4.0  2013.0        Soldotna             AK              NaN  \n",
       "3       3.0  2013.0  Hendersonville             NC              NaN  \n",
       "4       2.0  2013.0         Trenton             SC              NaN  \n",
       "...     ...     ...             ...            ...              ...  \n",
       "74422  19.0  1977.0          EUREKA             CA              IMC  \n",
       "74423  30.0  1974.0       Saltville             VA              IMC  \n",
       "74424  19.0  1962.0      BRIDGEPORT             CA              UNK  \n",
       "74425  24.0  1948.0     MOOSE CREEK             ID              UNK  \n",
       "74426   NaN     NaN         Unknown             UN              NaN  \n",
       "\n",
       "[70757 rows x 28 columns]"
      ]
     },
     "execution_count": 24,
     "metadata": {},
     "output_type": "execute_result"
    }
   ],
   "source": [
    "# Filling NaNs with most frequent\n",
    "US_accidents['Weather Condtion'] = US_accidents['Weather Condition'].fillna(US_accidents.mode().iloc[0])\n",
    "US_accidents"
   ]
  },
  {
   "cell_type": "code",
   "execution_count": 25,
   "metadata": {},
   "outputs": [
    {
     "name": "stderr",
     "output_type": "stream",
     "text": [
      "/Users/adam/opt/anaconda3/lib/python3.7/site-packages/pandas/core/generic.py:6392: SettingWithCopyWarning: \n",
      "A value is trying to be set on a copy of a slice from a DataFrame\n",
      "\n",
      "See the caveats in the documentation: https://pandas.pydata.org/pandas-docs/stable/user_guide/indexing.html#returning-a-view-versus-a-copy\n",
      "  return self._update_inplace(result)\n",
      "ipykernel_launcher:5: SettingWithCopyWarning: \n",
      "A value is trying to be set on a copy of a slice from a DataFrame.\n",
      "Try using .loc[row_indexer,col_indexer] = value instead\n",
      "\n",
      "See the caveats in the documentation: https://pandas.pydata.org/pandas-docs/stable/user_guide/indexing.html#returning-a-view-versus-a-copy\n"
     ]
    },
    {
     "data": {
      "text/plain": [
       "array([1, 2, 0])"
      ]
     },
     "execution_count": 25,
     "metadata": {},
     "output_type": "execute_result"
    }
   ],
   "source": [
    "\n",
    "#Fill Nan's with most frequent damage value of 'Substantial'\n",
    "US_accidents['Aircraft Damage'].value_counts()\n",
    "US_accidents['Aircraft Damage'].fillna('Substantial', inplace=True) # Assume NaNs are VMC conditions\n",
    "# Map strings to ints\n",
    "US_accidents['Aircraft Damage'] = US_accidents['Aircraft Damage'].map({'Substantial': 1, 'Destroyed': 2, 'Minor': 0})\n",
    "US_accidents['Aircraft Damage'].unique()"
   ]
  },
  {
   "cell_type": "code",
   "execution_count": 26,
   "metadata": {},
   "outputs": [
    {
     "name": "stderr",
     "output_type": "stream",
     "text": [
      "ipykernel_launcher:3: SettingWithCopyWarning: \n",
      "A value is trying to be set on a copy of a slice from a DataFrame.\n",
      "Try using .loc[row_indexer,col_indexer] = value instead\n",
      "\n",
      "See the caveats in the documentation: https://pandas.pydata.org/pandas-docs/stable/user_guide/indexing.html#returning-a-view-versus-a-copy\n"
     ]
    },
    {
     "data": {
      "text/plain": [
       "array([2, 1, 4, 0, 3])"
      ]
     },
     "execution_count": 26,
     "metadata": {},
     "output_type": "execute_result"
    }
   ],
   "source": [
    "US_accidents['Number of Engines'].value_counts()\n",
    "US_accidents['Number of Engines'].fillna(1, inplace=True)\n",
    "US_accidents['Number of Engines'] = US_accidents['Number of Engines'].astype(int)\n",
    "US_accidents['Number of Engines'].unique()"
   ]
  },
  {
   "cell_type": "code",
   "execution_count": 27,
   "metadata": {},
   "outputs": [
    {
     "name": "stderr",
     "output_type": "stream",
     "text": [
      "ipykernel_launcher:7: SettingWithCopyWarning: \n",
      "A value is trying to be set on a copy of a slice from a DataFrame.\n",
      "Try using .loc[row_indexer,col_indexer] = value instead\n",
      "\n",
      "See the caveats in the documentation: https://pandas.pydata.org/pandas-docs/stable/user_guide/indexing.html#returning-a-view-versus-a-copy\n"
     ]
    },
    {
     "data": {
      "text/plain": [
       "array([0, 1, 2])"
      ]
     },
     "execution_count": 27,
     "metadata": {},
     "output_type": "execute_result"
    }
   ],
   "source": [
    "## Convert NaNs to most frequent value\n",
    "\n",
    "\n",
    "US_accidents['Weather Condition'].value_counts()\n",
    "US_accidents['Weather Condition'].fillna('VMC', inplace=True) # Assume NaNs are VMC conditions\n",
    "US_accidents['Weather Condition'].isna().sum()\n",
    "US_accidents['Weather Condition'] = US_accidents['Weather Condition'].map({'IMC': 0, 'VMC': 1, 'UNK': 2})\n",
    "US_accidents['Weather Condition'].unique()"
   ]
  },
  {
   "cell_type": "markdown",
   "metadata": {},
   "source": []
  },
  {
   "cell_type": "markdown",
   "metadata": {},
   "source": [
    "# Logistic Regression"
   ]
  },
  {
   "cell_type": "code",
   "execution_count": 28,
   "metadata": {},
   "outputs": [],
   "source": [
    "# x = US_accidents[['Aircraft Damage', 'Aircraft Category', 'Number of Engines', 'Purpose of Flight', 'Weather Condition']]\n",
    "# initialize columns for training\n",
    "x = US_accidents[['Aircraft Damage', 'Number of Engines', 'Weather Condition']]\n",
    "y = US_accidents['is_fatal']"
   ]
  },
  {
   "cell_type": "code",
   "execution_count": 29,
   "metadata": {},
   "outputs": [],
   "source": [
    "# Generate the model\n",
    "model = LogisticRegression(solver='liblinear', random_state=0)"
   ]
  },
  {
   "cell_type": "code",
   "execution_count": 30,
   "metadata": {},
   "outputs": [
    {
     "data": {
      "text/plain": [
       "LogisticRegression(C=1.0, class_weight=None, dual=False, fit_intercept=True,\n",
       "                   intercept_scaling=1, l1_ratio=None, max_iter=100,\n",
       "                   multi_class='auto', n_jobs=None, penalty='l2',\n",
       "                   random_state=0, solver='liblinear', tol=0.0001, verbose=0,\n",
       "                   warm_start=False)"
      ]
     },
     "execution_count": 30,
     "metadata": {},
     "output_type": "execute_result"
    }
   ],
   "source": [
    "# Split the data into training and testing sets\n",
    "x_train, x_test, y_train, y_test =\\\n",
    "    train_test_split(x, y, test_size=0.2, random_state=0)\n",
    "# Fit the model\n",
    "model.fit(x_train,y_train)"
   ]
  },
  {
   "cell_type": "markdown",
   "metadata": {},
   "source": [
    "Model classes\n",
    "\n",
    "87% Accuracy score. Can this be improved on?"
   ]
  },
  {
   "cell_type": "code",
   "execution_count": 31,
   "metadata": {},
   "outputs": [
    {
     "name": "stdout",
     "output_type": "stream",
     "text": [
      "[0 1]\n",
      "[[0.40275891 0.59724109]\n",
      " [0.94184335 0.05815665]\n",
      " [0.94184335 0.05815665]\n",
      " ...\n",
      " [0.94184335 0.05815665]\n",
      " [0.36815062 0.63184938]\n",
      " [0.99602937 0.00397063]]\n",
      "0.874940376291847\n",
      "0.8719615602035048\n"
     ]
    }
   ],
   "source": [
    "print(model.classes_)\n",
    "print(model.predict_proba(x_test))\n",
    "y_pred = model.predict(x_test)\n",
    "print(model.score(x_train, y_train))\n",
    "print(model.score(x_test, y_test))"
   ]
  },
  {
   "cell_type": "code",
   "execution_count": 32,
   "metadata": {},
   "outputs": [
    {
     "data": {
      "text/plain": [
       "array([[10420,  1072],\n",
       "       [  740,  1920]])"
      ]
     },
     "execution_count": 32,
     "metadata": {},
     "output_type": "execute_result"
    }
   ],
   "source": [
    "confusion_matrix(y_test, y_pred)"
   ]
  },
  {
   "cell_type": "markdown",
   "metadata": {},
   "source": [
    "### Function to plot the confusion matrix\n"
   ]
  },
  {
   "cell_type": "code",
   "execution_count": 33,
   "metadata": {},
   "outputs": [],
   "source": [
    "def plot_confusion_matrix(cm, classes,\n",
    "                          normalize=False,\n",
    "                          title='Confusion matrix',\n",
    "                          cmap=plt.cm.Blues):\n",
    "    \"\"\" This function prints and plots the confusion matrix.\n",
    "    Normalization can be applied by setting `normalize=True`. \"\"\"\n",
    "    # Compute the normalized confusion matrix\n",
    "    if normalize:\n",
    "        cm = cm.astype('float') / cm.sum(axis=1)[:, np.newaxis]\n",
    "        print(\"Normalized confusion matrix\")\n",
    "    else:\n",
    "        print('Confusion matrix, without normalization')\n",
    "    \n",
    "    fig, ax = plt.subplots(figsize=(8, 8))\n",
    "    im = ax.imshow(cm, interpolation='nearest', cmap=cmap)\n",
    "    ax.figure.colorbar(im, ax=ax)\n",
    "    # We want to show all ticks...\n",
    "    ax.set(xticks=np.arange(cm.shape[1]),\n",
    "           yticks=np.arange(cm.shape[0]),\n",
    "           # ... and label them with the respective list entries\n",
    "           xticklabels=classes, yticklabels=classes,\n",
    "           title=title,\n",
    "           ylabel='True label',\n",
    "           xlabel='Predicted label')\n",
    "    \n",
    "    "
   ]
  },
  {
   "cell_type": "markdown",
   "metadata": {},
   "source": [
    "### Function to plot the ROC curve"
   ]
  },
  {
   "cell_type": "code",
   "execution_count": 34,
   "metadata": {},
   "outputs": [],
   "source": [
    "def plot_auc(model, x_test):\n",
    "    # Plot the ROC curve\n",
    "    y_pred = model.predict_proba(x_test)\n",
    "    y_pred = y_pred[:, 1]\n",
    "    fpr, tpr, thresholds = roc_curve(y_test, y_pred)\n",
    "    auc = roc_auc_score(y_test, y_pred)\n",
    "    plt.plot(fpr, tpr, color='orange', label='ROC')\n",
    "    plt.plot([0, 1], [0, 1], color='darkblue', linestyle='--')\n",
    "    plt.xlabel('False Positive Rate')\n",
    "    plt.ylabel('True Positive Rate')\n",
    "    plt.title('ROC Curve')\n",
    "    plt.legend()\n",
    "    plt.show()\n",
    "    print(f\"The AUC score is {auc}\")"
   ]
  },
  {
   "cell_type": "code",
   "execution_count": 35,
   "metadata": {},
   "outputs": [
    {
     "name": "stdout",
     "output_type": "stream",
     "text": [
      "              precision    recall  f1-score   support\n",
      "\n",
      "           0       0.93      0.91      0.92     11492\n",
      "           1       0.64      0.72      0.68      2660\n",
      "\n",
      "    accuracy                           0.87     14152\n",
      "   macro avg       0.79      0.81      0.80     14152\n",
      "weighted avg       0.88      0.87      0.87     14152\n",
      "\n",
      "[[10420  1072]\n",
      " [  740  1920]]\n",
      "0.09328228332753219\n",
      "0.7218045112781954\n"
     ]
    },
    {
     "data": {
      "image/png": "[encoded data removed]",
      "text/plain": [
       "<Figure size 432x288 with 1 Axes>"
      ]
     },
     "metadata": {
      "needs_background": "light"
     },
     "output_type": "display_data"
    },
    {
     "name": "stdout",
     "output_type": "stream",
     "text": [
      "The AUC score is 0.8389496354443366\n",
      "Normalized confusion matrix\n"
     ]
    },
    {
     "data": {
      "image/png": "[encoded data removed]",
      "text/plain": [
       "<Figure size 576x576 with 2 Axes>"
      ]
     },
     "metadata": {
      "needs_background": "light"
     },
     "output_type": "display_data"
    }
   ],
   "source": [
    "print(classification_report(y_test, y_pred))\n",
    "cm = confusion_matrix(y_test, y_pred)\n",
    "print(cm)\n",
    "fpr = cm[0][1] / (cm[0][1] + cm[0][0])\n",
    "print(fpr)\n",
    "tpr = cm[1][1] / (cm[1][1] + cm[1][0])\n",
    "print(tpr)\n",
    "plot_auc(model, x_test)\n",
    "# plot_roc_curve(fpr, tpr)\n",
    "plot_confusion_matrix(cm, classes=['0', '1'], normalize=True, title='Normalized confusion matrix')\n"
   ]
  },
  {
   "cell_type": "markdown",
   "metadata": {},
   "source": [
    "Confusion Matrix shows the accuracy of the model.\n",
    "The diagonal shows the true positive rate (TP) and the false positive rate (FP).\n",
    "There appears to be a significant number of true positives and true negatives\n",
    "This is a good model to use for binary classification problems.\n"
   ]
  },
  {
   "cell_type": "code",
   "execution_count": 36,
   "metadata": {},
   "outputs": [
    {
     "name": "stdout",
     "output_type": "stream",
     "text": [
      "              precision    recall  f1-score   support\n",
      "\n",
      "           0       0.94      0.91      0.92     57668\n",
      "           1       0.64      0.73      0.68     13089\n",
      "\n",
      "    accuracy                           0.87     70757\n",
      "   macro avg       0.79      0.82      0.80     70757\n",
      "weighted avg       0.88      0.87      0.88     70757\n",
      "\n",
      "['fit_time', 'score_time', 'test_score']\n",
      "[0.87036383 0.8700106  0.87385159 0.87349823 0.87208481]\n",
      "[0.87036383 0.8700106  0.87385159 0.87349823 0.87208481]\n",
      "The accuracy of the model was 0.8719618109946291 with a standard deviation of 0.0015689339411438287 \n"
     ]
    }
   ],
   "source": [
    "print(classification_report(y, model.predict(x)))\n",
    "cv_results = cross_validate(model, x_test, y_test, cv=5)\n",
    "print(sorted(cv_results.keys()))\n",
    "print(cv_results['test_score'])\n",
    "cv_results_train = cross_validate(model, x_train, y_train, cv=5)\n",
    "print(cv_results['test_score'])\n",
    "print(f\"The accuracy of the model was {cv_results['test_score'].mean()} with a standard deviation of {cv_results['test_score'].std()} \")"
   ]
  },
  {
   "cell_type": "markdown",
   "metadata": {},
   "source": [
    "When performing Cross validation score, we used a k fold cross validation.\n",
    "We had a k value of 5 in this case.\n",
    "Each scoring value had a consistent accuracy score of around 87%.\n"
   ]
  },
  {
   "cell_type": "code",
   "execution_count": 37,
   "metadata": {},
   "outputs": [
    {
     "name": "stdout",
     "output_type": "stream",
     "text": [
      "[-4.9793177]\n",
      "[[ 3.17868145  0.14617615 -1.1302386 ]]\n",
      "[[0.40275891 0.59724109]\n",
      " [0.94184335 0.05815665]\n",
      " [0.94184335 0.05815665]\n",
      " ...\n",
      " [0.94184335 0.05815665]\n",
      " [0.36815062 0.63184938]\n",
      " [0.99602937 0.00397063]]\n",
      "[1 0 0 ... 0 1 0]\n",
      "0.8719615602035048\n",
      "0.874940376291847\n"
     ]
    }
   ],
   "source": [
    "print(model.intercept_)\n",
    "print(model.coef_)\n",
    "print(model.predict_proba(x_test))\n",
    "print(model.predict(x_test))\n",
    "print(model.score(x_test, y_test))\n",
    "print(model.score(x_train, y_train))\n"
   ]
  },
  {
   "cell_type": "code",
   "execution_count": 50,
   "metadata": {},
   "outputs": [
    {
     "name": "stdout",
     "output_type": "stream",
     "text": [
      "The best parameters for the model are {'C': 0.01, 'max_iter': 100, 'penalty': 'l1', 'tol': 1e-06}\n",
      "0.8737445610991749\n",
      "0.8761447145279819\n"
     ]
    }
   ],
   "source": [
    "# Logistic Regression with GridSearchCV\n",
    "clf = GridSearchCV(LogisticRegression(solver='liblinear', random_state=0),\n",
    "                   param_grid={'C': [0.001, 0.01, 0.1, 1, 10, 100, 1000], 'penalty': ['l1', 'l2'],\n",
    "                                'max_iter': [100, 200, 300, 400, 500, 600, 700, 800, 900, 1000],\n",
    "                                'tol': [1e-6, 1e-3]},\n",
    "                   cv=5)\n",
    "clf.fit(x_train, y_train)\n",
    "\n",
    "\n",
    "print(f\"The best parameters for the model are {clf.best_params_}\")\n",
    "print(clf.best_score_)\n",
    "print(clf.score(x_test, y_test))"
   ]
  },
  {
   "cell_type": "code",
   "execution_count": null,
   "metadata": {},
   "outputs": [],
   "source": []
  },
  {
   "cell_type": "code",
   "execution_count": 66,
   "metadata": {},
   "outputs": [
    {
     "name": "stdout",
     "output_type": "stream",
     "text": [
      "The model score for testing dataset is 0.8761447145279819\n",
      "The model score for training dataset is 0.8737445116550775\n",
      "The model coeffiecents are [[ 3.16510872  0.18491566 -1.06167988]]\n",
      "The model intercept is [-5.06315738]\n",
      "[[0.94129949 0.05870051]\n",
      " [0.93020855 0.06979145]\n",
      " [0.36003517 0.63996483]\n",
      " ...\n",
      " [0.40364609 0.59635391]\n",
      " [0.94129949 0.05870051]\n",
      " [0.95072128 0.04927872]]\n"
     ]
    }
   ],
   "source": [
    "\n",
    "model = LogisticRegression(penalty='l2',  tol=1e-6, random_state=0).fit(x_train, y_train)\n",
    "\n",
    "print(f\"The model score for testing dataset is {model.score(x_test, y_test)}\")\n",
    "print(f\"The model score for training dataset is {model.score(x_train, y_train)}\")\n",
    "print(f\"The model coeffiecents are {model.coef_}\")\n",
    "print(f\"The model intercept is {model.intercept_}\")\n",
    "\n",
    "print(model.predict_proba(x_test))\n"
   ]
  },
  {
   "cell_type": "code",
   "execution_count": 67,
   "metadata": {},
   "outputs": [
    {
     "name": "stdout",
     "output_type": "stream",
     "text": [
      "              precision    recall  f1-score   support\n",
      "\n",
      "           0       0.94      0.91      0.92     14393\n",
      "           1       0.65      0.73      0.69      3297\n",
      "\n",
      "    accuracy                           0.88     17690\n",
      "   macro avg       0.79      0.82      0.81     17690\n",
      "weighted avg       0.88      0.88      0.88     17690\n",
      "\n",
      "[[13085  1308]\n",
      " [  883  2414]]\n",
      "0.09087750990064615\n",
      "0.7321807703973309\n"
     ]
    },
    {
     "data": {
      "image/png": "[encoded data removed]",
      "text/plain": [
       "<Figure size 432x288 with 1 Axes>"
      ]
     },
     "metadata": {
      "needs_background": "light"
     },
     "output_type": "display_data"
    },
    {
     "name": "stdout",
     "output_type": "stream",
     "text": [
      "The AUC score is 0.846487833904532\n",
      "Normalized confusion matrix\n"
     ]
    },
    {
     "data": {
      "image/png": "[encoded data removed]",
      "text/plain": [
       "<Figure size 576x576 with 2 Axes>"
      ]
     },
     "metadata": {
      "needs_background": "light"
     },
     "output_type": "display_data"
    }
   ],
   "source": [
    "y_pred = model.predict(x_test)\n",
    "print(classification_report(y_test, y_pred))\n",
    "cm = confusion_matrix(y_test, y_pred)\n",
    "print(cm)\n",
    "fpr = cm[0][1] / (cm[0][1] + cm[0][0])\n",
    "print(fpr)\n",
    "tpr = cm[1][1] / (cm[1][1] + cm[1][0])\n",
    "print(tpr)\n",
    "plot_auc(model, x_test)\n",
    "plot_confusion_matrix(cm, classes=['0', '1'], normalize=True, title='Normalized confusion matrix')\n"
   ]
  },
  {
   "cell_type": "code",
   "execution_count": 68,
   "metadata": {},
   "outputs": [],
   "source": [
    "def plot_probability_distribution(model, x_test):\n",
    "    y_pred = model.predict_proba(x_test)\n",
    "    y_pred = y_pred[:, 1]\n",
    "    plt.hist(y_pred, bins=20, range=(0, 1))\n",
    "    plt.xlabel('Probability')\n",
    "    plt.ylabel('Frequency')\n",
    "    plt.title('Probability Distribution')\n",
    "    plt.show()\n",
    "    "
   ]
  },
  {
   "cell_type": "code",
   "execution_count": 69,
   "metadata": {},
   "outputs": [
    {
     "data": {
      "image/png": "[encoded data removed]",
      "text/plain": [
       "<Figure size 432x288 with 1 Axes>"
      ]
     },
     "metadata": {
      "needs_background": "light"
     },
     "output_type": "display_data"
    }
   ],
   "source": [
    "plot_probability_distribution(model, x_test)"
   ]
  },
  {
   "cell_type": "code",
   "execution_count": 70,
   "metadata": {},
   "outputs": [
    {
     "data": {
      "image/png": "[encoded data removed]",
      "text/plain": [
       "<Figure size 432x288 with 1 Axes>"
      ]
     },
     "metadata": {
      "needs_background": "light"
     },
     "output_type": "display_data"
    },
    {
     "name": "stdout",
     "output_type": "stream",
     "text": [
      "The AUC score is 0.846487833904532\n"
     ]
    }
   ],
   "source": [
    "plot_auc(model, x_test)"
   ]
  },
  {
   "cell_type": "markdown",
   "metadata": {},
   "source": [
    "Not a significant improvement in model accuracy after running grid search to optimize hyperparameters.\n"
   ]
  },
  {
   "cell_type": "code",
   "execution_count": null,
   "metadata": {},
   "outputs": [],
   "source": []
  }
 ],
 "metadata": {
  "interpreter": {
   "hash": "49b3433d3493769708e00fd2067cfff454459fc2d452479bca0a295e67221b41"
  },
  "kernelspec": {
   "display_name": "Python 3.7.9 64-bit ('base': conda)",
   "name": "python3"
  },
  "language_info": {
   "codemirror_mode": {
    "name": "ipython",
    "version": 3
   },
   "file_extension": ".py",
   "mimetype": "text/x-python",
   "name": "python",
   "nbconvert_exporter": "python",
   "pygments_lexer": "ipython3",
   "version": "3.7.9"
  },
  "orig_nbformat": 4
 },
 "nbformat": 4,
 "nbformat_minor": 2
}
